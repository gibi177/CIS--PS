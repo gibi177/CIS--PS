{
 "cells": [
  {
   "cell_type": "markdown",
   "id": "03f95685",
   "metadata": {},
   "source": [
    "# Atividade de Redes Neurais"
   ]
  },
  {
   "cell_type": "markdown",
   "id": "6d7d7934",
   "metadata": {},
   "source": [
    "## Felipe Gibin"
   ]
  }
 ],
 "metadata": {
  "language_info": {
   "name": "python"
  }
 },
 "nbformat": 4,
 "nbformat_minor": 5
}
