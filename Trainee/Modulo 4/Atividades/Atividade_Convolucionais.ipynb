{
 "cells": [
  {
   "cell_type": "markdown",
   "id": "5535a259",
   "metadata": {},
   "source": [
    "# Atividade de Redes Convolucionais\n",
    "\n",
    "## Felipe Gibin"
   ]
  }
 ],
 "metadata": {
  "language_info": {
   "name": "python"
  }
 },
 "nbformat": 4,
 "nbformat_minor": 5
}
